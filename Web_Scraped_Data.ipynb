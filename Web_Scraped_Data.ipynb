{
 "cells": [
  {
   "cell_type": "code",
   "execution_count": 1,
   "id": "5d14c0d8-97bd-4e03-8779-a7a46cfd56c0",
   "metadata": {},
   "outputs": [],
   "source": [
    "import pandas as pd \n",
    "import numpy as np \n",
    "import matplotlib.pyplot as plt \n",
    "import seaborn as sns\n",
    "from bs4 import BeautifulSoup \n",
    "import requests"
   ]
  },
  {
   "cell_type": "code",
   "execution_count": 2,
   "id": "f4f220d0-7446-4867-a8c0-dd596567424c",
   "metadata": {},
   "outputs": [],
   "source": [
    "url = \"https://www.worldometers.info/world-population/population-by-country/\"\n",
    "\n",
    "soup = requests.get(url)\n",
    "web_data = BeautifulSoup(soup.text, \"html\")"
   ]
  },
  {
   "cell_type": "code",
   "execution_count": 3,
   "id": "8ff75f61-3ec2-4f08-9d1b-a209f4e2b5c7",
   "metadata": {},
   "outputs": [],
   "source": [
    "headers = web_data.find('thead')\n",
    "th_tags = headers.find_all('th')\n",
    "th_data = [th.text.strip() for th in th_tags]\n"
   ]
  },
  {
   "cell_type": "code",
   "execution_count": 4,
   "id": "4226bec6-7ef3-4556-ae83-dff8b5f7ab29",
   "metadata": {},
   "outputs": [],
   "source": [
    "tbody = web_data.find('tbody')"
   ]
  },
  {
   "cell_type": "code",
   "execution_count": 5,
   "id": "3a086b53-567c-42ff-845c-ebcdb1f5f56a",
   "metadata": {},
   "outputs": [],
   "source": [
    "table_rows = tbody.find_all('tr')"
   ]
  },
  {
   "cell_type": "code",
   "execution_count": 6,
   "id": "7ba50cc6-7e6b-4326-887a-93ad431c450f",
   "metadata": {},
   "outputs": [],
   "source": [
    "data_con = []"
   ]
  },
  {
   "cell_type": "code",
   "execution_count": 7,
   "id": "572cf943-aec7-45b6-99f7-9cbbb11aafa4",
   "metadata": {},
   "outputs": [],
   "source": [
    "for data in table_rows:\n",
    "    tdata = data.find_all('td')\n",
    "    data_value = [cell.text.strip() for cell in tdata]\n",
    "    data_con.append(data_value)\n",
    "    "
   ]
  },
  {
   "cell_type": "code",
   "execution_count": 8,
   "id": "141e085a-e100-4538-9c77-a01bb5adf29d",
   "metadata": {},
   "outputs": [],
   "source": [
    "df = pd.DataFrame(data_con,columns=th_data)"
   ]
  },
  {
   "cell_type": "code",
   "execution_count": 9,
   "id": "81e8641b-bcb4-47b5-8397-b312777496bc",
   "metadata": {},
   "outputs": [],
   "source": [
    "for col in df.columns[2:]:\n",
    "    df[col] = pd.to_numeric(\n",
    "        df[col]\n",
    "        .astype(str)\n",
    "        .str.replace(\",\", \"\", regex=False)\n",
    "        .str.replace(\"%\", \"\", regex=False)\n",
    "        .str.replace(\"−\", \"-\", regex=False)\n",
    "        .str.strip(),  # remove leading/trailing spaces\n",
    "        errors='coerce'  # convert invalid strings (like '') to NaN\n",
    "    )\n"
   ]
  },
  {
   "cell_type": "code",
   "execution_count": 12,
   "id": "884d59ff-2ec9-45c8-ad6a-0ab1d1198efc",
   "metadata": {},
   "outputs": [],
   "source": [
    "df.to_csv('World_Population_Data.csv')"
   ]
  },
  {
   "cell_type": "code",
   "execution_count": 10,
   "id": "2b82a7e2-f54c-431c-ac15-a5ae4e9b1fc3",
   "metadata": {},
   "outputs": [],
   "source": []
  },
  {
   "cell_type": "code",
   "execution_count": null,
   "id": "68cad26c-1325-46b7-a849-0816f38063cf",
   "metadata": {},
   "outputs": [],
   "source": []
  },
  {
   "cell_type": "code",
   "execution_count": null,
   "id": "55046b80-072a-4ad8-9c03-7476b1f0b226",
   "metadata": {},
   "outputs": [],
   "source": []
  },
  {
   "cell_type": "code",
   "execution_count": null,
   "id": "03c85ab6-6369-4804-b56b-03d3acb37b26",
   "metadata": {},
   "outputs": [],
   "source": []
  },
  {
   "cell_type": "code",
   "execution_count": null,
   "id": "3f9185b3-6c3c-4d8f-a1df-e5cf48e65db4",
   "metadata": {},
   "outputs": [],
   "source": []
  }
 ],
 "metadata": {
  "kernelspec": {
   "display_name": "Python 3 (ipykernel)",
   "language": "python",
   "name": "python3"
  },
  "language_info": {
   "codemirror_mode": {
    "name": "ipython",
    "version": 3
   },
   "file_extension": ".py",
   "mimetype": "text/x-python",
   "name": "python",
   "nbconvert_exporter": "python",
   "pygments_lexer": "ipython3",
   "version": "3.13.5"
  }
 },
 "nbformat": 4,
 "nbformat_minor": 5
}
